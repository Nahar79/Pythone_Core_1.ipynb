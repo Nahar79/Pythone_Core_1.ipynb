{
 "cells": [
  {
   "cell_type": "markdown",
   "metadata": {},
   "source": [
    "# Assignment 1 on Python Core"
   ]
  },
  {
   "cell_type": "markdown",
   "metadata": {},
   "source": [
    " ## Task 1 answer"
   ]
  },
  {
   "cell_type": "code",
   "execution_count": 10,
   "metadata": {},
   "outputs": [
    {
     "name": "stdout",
     "output_type": "stream",
     "text": [
      "Found!\n"
     ]
    }
   ],
   "source": [
    "x = 5\n",
    "data = [1,4,2,5,3,6,'python','jack']\n",
    "if x in data:\n",
    "        print(\"Found!\")\n",
    "else:\n",
    "         print('Wrong Number!')"
   ]
  },
  {
   "cell_type": "code",
   "execution_count": 14,
   "metadata": {},
   "outputs": [
    {
     "name": "stdout",
     "output_type": "stream",
     "text": [
      "Wrong Number!\n"
     ]
    }
   ],
   "source": [
    "x = 11\n",
    "data = [1,4,2,5,3,6,'python','jack']\n",
    "if x in data:\n",
    "        print(\"Found!\")\n",
    "else:\n",
    "         print('Wrong Number!')"
   ]
  },
  {
   "cell_type": "code",
   "execution_count": 12,
   "metadata": {},
   "outputs": [
    {
     "name": "stdout",
     "output_type": "stream",
     "text": [
      "Found!\n"
     ]
    }
   ],
   "source": [
    "x = 'python'\n",
    "data = [1,4,2,5,3,6,'python','jack']\n",
    "if x in data:\n",
    "        print(\"Found!\")\n",
    "else:\n",
    "         print('Wrong Number!')"
   ]
  },
  {
   "cell_type": "markdown",
   "metadata": {},
   "source": [
    "## Task 2 Solution (Write a Program on Smart Door System)"
   ]
  },
  {
   "cell_type": "code",
   "execution_count": 1,
   "metadata": {},
   "outputs": [
    {
     "name": "stdout",
     "output_type": "stream",
     "text": [
      "Door is open!\n",
      "Door is open!\n",
      "Door is open!\n",
      "Reset Your Password\n"
     ]
    }
   ],
   "source": [
    "password_val = \"open@2022\"\n",
    "input_password = \" \"\n",
    "password_attempt = 1\n",
    "password_lock = False \n",
    "while input_password != password_val and not(password_lock):\n",
    "   if password_attempt <= 3:\n",
    "      input_password = input(\"Enter password: \") \n",
    "   else:\n",
    "      password_lock = True \n",
    "   password_attempt = password_attempt + 1\n",
    "\n",
    "   if password_lock:\n",
    "      print(\"Reset Your Password\")\n",
    "   else:\n",
    "      print(\"Door is open!\") \n",
    "      "
   ]
  }
 ],
 "metadata": {
  "kernelspec": {
   "display_name": "Python 3.10.7 64-bit",
   "language": "python",
   "name": "python3"
  },
  "language_info": {
   "codemirror_mode": {
    "name": "ipython",
    "version": 3
   },
   "file_extension": ".py",
   "mimetype": "text/x-python",
   "name": "python",
   "nbconvert_exporter": "python",
   "pygments_lexer": "ipython3",
   "version": "3.10.7"
  },
  "orig_nbformat": 4,
  "vscode": {
   "interpreter": {
    "hash": "c19fa61d258bb2b35aae2ada233c33e2817c1ce895aa48acba720c6bf7cbe3cb"
   }
  }
 },
 "nbformat": 4,
 "nbformat_minor": 2
}
